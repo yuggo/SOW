{
 "cells": [
  {
   "cell_type": "markdown",
   "metadata": {
    "deletable": true,
    "editable": true
   },
   "source": [
    "# Import libraries"
   ]
  },
  {
   "cell_type": "markdown",
   "metadata": {
    "deletable": true,
    "editable": true
   },
   "source": [
    "### Standard libraries"
   ]
  },
  {
   "cell_type": "code",
   "execution_count": 22,
   "metadata": {
    "collapsed": false,
    "deletable": true,
    "editable": true
   },
   "outputs": [],
   "source": [
    "#you have to make sure that you have all of these installed\n",
    "import cProfile\n",
    "import re\n",
    "import math\n",
    "import numpy as np\n",
    "import scipy as sp\n",
    "from scipy import stats\n",
    "from scipy import optimize as opt\n",
    "import pandas as pd\n",
    "import random as rnd\n",
    "from matplotlib import pyplot as plt\n",
    "import time\n",
    "import numpy.random\n",
    "import warnings\n",
    "warnings.filterwarnings('ignore')\n",
    "import multiprocessing as mp"
   ]
  },
  {
   "cell_type": "markdown",
   "metadata": {
    "deletable": true,
    "editable": true
   },
   "source": [
    "### Custom build"
   ]
  },
  {
   "cell_type": "code",
   "execution_count": 2,
   "metadata": {
    "collapsed": true,
    "deletable": true,
    "editable": true
   },
   "outputs": [],
   "source": [
    "import chen_utils as ch\n",
    "import user_simulation_utils as sim"
   ]
  },
  {
   "cell_type": "markdown",
   "metadata": {
    "deletable": true,
    "editable": true
   },
   "source": [
    "## Function to generate observed data"
   ]
  },
  {
   "cell_type": "code",
   "execution_count": 3,
   "metadata": {
    "collapsed": false,
    "deletable": true,
    "editable": true
   },
   "outputs": [
    {
     "name": "stdout",
     "output_type": "stream",
     "text": [
      "0.3 0.7 7\n"
     ]
    }
   ],
   "source": [
    "rate_input = 0.3\n",
    "share_observed = 0.7\n",
    "observations_total = 7\n",
    "print(rate_input, share_observed, observations_total)"
   ]
  },
  {
   "cell_type": "code",
   "execution_count": 4,
   "metadata": {
    "collapsed": false,
    "deletable": true,
    "editable": true
   },
   "outputs": [
    {
     "data": {
      "text/plain": [
       "numpy.ndarray"
      ]
     },
     "execution_count": 4,
     "metadata": {},
     "output_type": "execute_result"
    }
   ],
   "source": [
    "type(sim.simulate_data()[0])"
   ]
  },
  {
   "cell_type": "markdown",
   "metadata": {
    "deletable": true,
    "editable": true
   },
   "source": [
    "## Set of functions for Chen Model, including\n",
    "- Custom gamma function\n",
    "- Chen pdf and cdf\n",
    "- Chen pdf summing over all possible k's\n",
    "- Function accounting for right censoring\n",
    "- Likelihood function accounting for all IPT observations\n",
    "- Solver function (performing grid search)\n",
    "- Plot function\n",
    "- Pipeline function executing all functions in the respective order"
   ]
  },
  {
   "cell_type": "code",
   "execution_count": 5,
   "metadata": {
    "collapsed": false,
    "deletable": true,
    "editable": true
   },
   "outputs": [
    {
     "data": {
      "text/plain": [
       "[array([ 10.89137374,   1.20842404,   6.45357491,  14.88010635,\n",
       "          4.36227465,   4.25281117,  16.64814006,  18.2935035 ,\n",
       "          2.76672231,   5.40805486,   4.96089087,   0.75862208,\n",
       "          9.18711358,   6.13814847,  21.1624289 ,   8.59584475,\n",
       "         12.72168178,   8.22119479,   7.81925312,  16.61838199]), 0]"
      ]
     },
     "execution_count": 5,
     "metadata": {},
     "output_type": "execute_result"
    }
   ],
   "source": [
    "x = sim.simulate_data()\n",
    "p = 0.5\n",
    "beta = 0.5\n",
    "#runtime estimate\n",
    "x"
   ]
  },
  {
   "cell_type": "code",
   "execution_count": 6,
   "metadata": {
    "collapsed": false,
    "deletable": true,
    "editable": true
   },
   "outputs": [
    {
     "data": {
      "text/plain": [
       "(1, 101)"
      ]
     },
     "execution_count": 6,
     "metadata": {},
     "output_type": "execute_result"
    }
   ],
   "source": [
    "#check function call\n",
    "ch._gamma_calc(x[1],2 * (np.array(range(101))+1),0.5).shape"
   ]
  },
  {
   "cell_type": "code",
   "execution_count": 9,
   "metadata": {
    "collapsed": false,
    "deletable": true,
    "editable": true
   },
   "outputs": [
    {
     "data": {
      "text/plain": [
       "[[0.52500000000000002, 0.47500000000000003], 3.3544381804858493e-133]"
      ]
     },
     "execution_count": 9,
     "metadata": {},
     "output_type": "execute_result"
    }
   ],
   "source": [
    "np.random.seed(1234)\n",
    "true_param = [0.5,0.5]\n",
    "x = sim.simulate_data(true_param[0], true_param[1], 100)\n",
    "ch.maximum_likelihood_estimate(x)"
   ]
  },
  {
   "cell_type": "code",
   "execution_count": 10,
   "metadata": {
    "collapsed": false,
    "deletable": true,
    "editable": true
   },
   "outputs": [
    {
     "data": {
      "image/png": "[encoded data removed]",
      "text/plain": [
       "<matplotlib.figure.Figure at 0x1100ce780>"
      ]
     },
     "metadata": {},
     "output_type": "display_data"
    },
    {
     "name": "stdout",
     "output_type": "stream",
     "text": [
      "True SOW 0.5\n",
      "Chen SOW 0.525\n",
      "True beta 0.5\n",
      "Chen beta 0.475\n",
      "Naive beta 0.246483402217\n"
     ]
    }
   ],
   "source": [
    "ch.total_pipeline(x, true_param)"
   ]
  },
  {
   "cell_type": "markdown",
   "metadata": {
    "deletable": true,
    "editable": true
   },
   "source": [
    "## Metropolis Simulation\n",
    "so from here onwards we are simulating parameter pairs using the Metropolis-Hastings algorithm"
   ]
  },
  {
   "cell_type": "code",
   "execution_count": 11,
   "metadata": {
    "collapsed": false,
    "deletable": true,
    "editable": true
   },
   "outputs": [
    {
     "name": "stdout",
     "output_type": "stream",
     "text": [
      "[[ 0.42697008  0.57276997]\n",
      " [ 0.42697008  0.57276997]\n",
      " [ 0.42697008  0.57276997]\n",
      " ..., \n",
      " [ 0.35929237  0.65031639]\n",
      " [ 0.35929237  0.65031639]\n",
      " [ 0.35929237  0.65031639]]\n"
     ]
    }
   ],
   "source": [
    "p = 0.6\n",
    "beta = 0.4\n",
    "x = sim.simulate_data(beta,p, 60)\n",
    "traj = ch.metropolis(x, starting_point = [0.5,0.5],chain_length = 5000, burn_in = 0.2)\n",
    "print(traj)"
   ]
  },
  {
   "cell_type": "code",
   "execution_count": 10,
   "metadata": {
    "collapsed": false,
    "deletable": true,
    "editable": true
   },
   "outputs": [
    {
     "data": {
      "text/plain": [
       "[array([ 24.71062137,   6.99326157,   6.50827662,   1.9969418 ,\n",
       "         23.77869001,  11.15403862,   3.37967397,   5.90454673,\n",
       "         11.43553058,   5.52678083,  24.08431148,   2.72254472,\n",
       "          8.21647734,   9.1819978 ,   7.10399645,   2.64806385,\n",
       "          2.7460171 ,   4.3089925 ,   7.1743395 ,   7.14308843,\n",
       "          3.8961428 ,   7.24042932,   1.20979013,   7.42027775,\n",
       "          6.57617247,   1.09111557,   0.61863018,   7.20347059,\n",
       "         42.5941273 ,   6.06569325,   5.37880198,   2.7763459 ,\n",
       "          8.09561917,   8.77648786,  10.98405096,   7.63436722,\n",
       "          7.55571838,  20.62609736,  12.57206735,   3.36336209,\n",
       "          2.92946916,   5.62146593,   9.19075908,  18.89254115,\n",
       "          0.43744348,  18.27340094,  16.47262318,  10.12417296,\n",
       "         10.1960705 ,   2.06710341,  19.4184893 ,   5.47342536,\n",
       "         11.71397339,   4.33197612,   2.79820984,  14.70799679,\n",
       "          7.5835689 ,   6.29638479,   1.84747889,   2.55871926]),\n",
       " 4.1593177726786656]"
      ]
     },
     "execution_count": 10,
     "metadata": {},
     "output_type": "execute_result"
    }
   ],
   "source": [
    "x"
   ]
  },
  {
   "cell_type": "code",
   "execution_count": 11,
   "metadata": {
    "collapsed": false,
    "deletable": true,
    "editable": true
   },
   "outputs": [
    {
     "name": "stdout",
     "output_type": "stream",
     "text": [
      "0.474804857128 0.577202839161\n"
     ]
    }
   ],
   "source": [
    "print(np.mean(traj[:,0]), np.mean(traj[:,1]))"
   ]
  },
  {
   "cell_type": "code",
   "execution_count": 12,
   "metadata": {
    "collapsed": false,
    "deletable": true,
    "editable": true
   },
   "outputs": [],
   "source": [
    "traj_new = ch.metropolis_new(x, starting_point = [0.5,0.5],chain_length = 5000, burn_in = 0.2)"
   ]
  },
  {
   "cell_type": "code",
   "execution_count": 13,
   "metadata": {
    "collapsed": false,
    "deletable": true,
    "editable": true
   },
   "outputs": [
    {
     "data": {
      "text/plain": [
       "array([ 0.45335536,  0.57649189])"
      ]
     },
     "execution_count": 13,
     "metadata": {},
     "output_type": "execute_result"
    }
   ],
   "source": [
    "np.mean(traj_new, axis = 0)"
   ]
  },
  {
   "cell_type": "code",
   "execution_count": 14,
   "metadata": {
    "collapsed": false,
    "deletable": true,
    "editable": true
   },
   "outputs": [
    {
     "data": {
      "text/plain": [
       "[array([ 24.71062137,   6.99326157,   6.50827662,   1.9969418 ,\n",
       "         23.77869001,  11.15403862,   3.37967397,   5.90454673,\n",
       "         11.43553058,   5.52678083,  24.08431148,   2.72254472,\n",
       "          8.21647734,   9.1819978 ,   7.10399645,   2.64806385,\n",
       "          2.7460171 ,   4.3089925 ,   7.1743395 ,   7.14308843,\n",
       "          3.8961428 ,   7.24042932,   1.20979013,   7.42027775,\n",
       "          6.57617247,   1.09111557,   0.61863018,   7.20347059,\n",
       "         42.5941273 ,   6.06569325,   5.37880198,   2.7763459 ,\n",
       "          8.09561917,   8.77648786,  10.98405096,   7.63436722,\n",
       "          7.55571838,  20.62609736,  12.57206735,   3.36336209,\n",
       "          2.92946916,   5.62146593,   9.19075908,  18.89254115,\n",
       "          0.43744348,  18.27340094,  16.47262318,  10.12417296,\n",
       "         10.1960705 ,   2.06710341,  19.4184893 ,   5.47342536,\n",
       "         11.71397339,   4.33197612,   2.79820984,  14.70799679,\n",
       "          7.5835689 ,   6.29638479,   1.84747889,   2.55871926]),\n",
       " 4.1593177726786656]"
      ]
     },
     "execution_count": 14,
     "metadata": {},
     "output_type": "execute_result"
    }
   ],
   "source": [
    "x"
   ]
  },
  {
   "cell_type": "code",
   "execution_count": 29,
   "metadata": {
    "collapsed": false,
    "deletable": true,
    "editable": true
   },
   "outputs": [
    {
     "name": "stdout",
     "output_type": "stream",
     "text": [
      "         5673274 function calls (5662449 primitive calls) in 12.673 seconds\n",
      "\n",
      "   Ordered by: standard name\n",
      "\n",
      "   ncalls  tottime  percall  cumtime  percall filename:lineno(function)\n",
      "        1    0.000    0.000    0.000    0.000 <frozen importlib._bootstrap>:989(_handle_fromlist)\n",
      "        1    0.000    0.000   12.735   12.735 <string>:1(<module>)\n",
      "    10825    0.004    0.000    0.004    0.000 <string>:2(_parse_args)\n",
      "        1    0.000    0.000    0.000    0.000 <string>:5(_parse_args_rvs)\n",
      "    10825    0.147    0.000    0.147    0.000 _continuous_distns.py:1978(_cdf)\n",
      "    21644    0.058    0.000    0.495    0.000 _continuous_distns.py:379(_pdf)\n",
      "    21644    0.437    0.000    0.437    0.000 _continuous_distns.py:382(_logpdf)\n",
      "        1    0.000    0.000    0.000    0.000 _continuous_distns.py:4893(_rvs)\n",
      "    21650    0.991    0.000    5.707    0.000 _distn_infrastructure.py:1619(pdf)\n",
      "    10825    0.554    0.000    2.275    0.000 _distn_infrastructure.py:1702(cdf)\n",
      "    32469    0.226    0.000    3.129    0.000 _distn_infrastructure.py:520(argsreduce)\n",
      "    32469    0.508    0.000    2.412    0.000 _distn_infrastructure.py:545(<listcomp>)\n",
      "        1    0.000    0.000    0.000    0.000 _distn_infrastructure.py:785(_argcheck_rvs)\n",
      "        2    0.000    0.000    0.000    0.000 _distn_infrastructure.py:799(squeeze_left)\n",
      "        1    0.000    0.000    0.000    0.000 _distn_infrastructure.py:815(<listcomp>)\n",
      "        1    0.000    0.000    0.000    0.000 _distn_infrastructure.py:844(<listcomp>)\n",
      "    32476    0.404    0.000    0.461    0.000 _distn_infrastructure.py:859(_argcheck)\n",
      "    21650    0.085    0.000    0.085    0.000 _distn_infrastructure.py:871(_support_mask)\n",
      "    10825    0.047    0.000    0.047    0.000 _distn_infrastructure.py:874(_open_support_mask)\n",
      "        1    0.000    0.000    0.001    0.001 _distn_infrastructure.py:905(rvs)\n",
      "    21650    0.015    0.000    0.155    0.000 _methods.py:31(_sum)\n",
      "    32476    0.017    0.000    0.193    0.000 _methods.py:37(_any)\n",
      "        6    0.000    0.000    0.000    0.000 _methods.py:40(_all)\n",
      "        1    0.000    0.000    0.000    0.000 _multivariate.py:201(_get_random_state)\n",
      "        1    0.000    0.000    0.000    0.000 _multivariate.py:351(_process_parameters)\n",
      "        1    0.000    0.000    0.000    0.000 _multivariate.py:36(_squeeze_output)\n",
      "        1    0.000    0.000    0.002    0.002 _multivariate.py:508(rvs)\n",
      "        1    0.000    0.000    0.000    0.000 _util.py:182(_asarray_validated)\n",
      "        1    0.000    0.000    0.000    0.000 base.py:1081(isspmatrix)\n",
      "        1    0.000    0.000    0.000    0.000 blas.py:177(find_best_blas_type)\n",
      "        1    0.000    0.000    0.000    0.000 blas.py:206(<listcomp>)\n",
      "        1    0.000    0.000    0.000    0.000 blas.py:226(_get_funcs)\n",
      "    10825    0.519    0.000    1.130    0.000 chen_utils.py:376(_gamma_logcalc)\n",
      "    10825    0.843    0.000    2.029    0.000 chen_utils.py:395(_dchen_sum)\n",
      "    10825    0.096    0.000    2.326    0.000 chen_utils.py:419(_loglikelihood)\n",
      "    10825    0.318    0.000    2.593    0.000 chen_utils.py:435(_pchen)\n",
      "    10825    0.117    0.000    4.115    0.000 chen_utils.py:443(_right_censoring)\n",
      "    10825    0.013    0.000    2.606    0.000 chen_utils.py:453(<lambda>)\n",
      "    10825    0.185    0.000    5.891    0.001 chen_utils.py:531(_prior)\n",
      "    11110    0.226    0.000   12.659    0.001 chen_utils.py:564(log_posterior_new)\n",
      "    22220    0.024    0.000    0.024    0.000 chen_utils.py:568(<genexpr>)\n",
      "        1    0.074    0.074   12.735   12.735 chen_utils.py:671(metropolis_new)\n",
      "        1    0.000    0.000    0.000    0.000 core.py:6192(isMaskedArray)\n",
      "        1    0.000    0.000    0.000    0.000 decomp_svd.py:16(svd)\n",
      "   216452    0.257    0.000    0.847    0.000 fromnumeric.py:1380(ravel)\n",
      "   108226    0.068    0.000    0.280    0.000 fromnumeric.py:1487(nonzero)\n",
      "    32475    0.020    0.000    0.020    0.000 fromnumeric.py:1565(shape)\n",
      "    21650    0.086    0.000    0.251    0.000 fromnumeric.py:1730(sum)\n",
      "    32476    0.092    0.000    0.406    0.000 fromnumeric.py:1886(any)\n",
      "        5    0.000    0.000    0.000    0.000 fromnumeric.py:1973(all)\n",
      "    21650    0.031    0.000    0.081    0.000 fromnumeric.py:504(transpose)\n",
      "   238102    0.171    0.000    0.599    0.000 fromnumeric.py:55(_wrapfunc)\n",
      "   108226    0.112    0.000    0.448    0.000 fromnumeric.py:70(take)\n",
      "        1    0.000    0.000    0.000    0.000 function_base.py:1152(asarray_chkfinite)\n",
      "   108226    0.329    0.000    1.904    0.000 function_base.py:2278(extract)\n",
      "    54119    0.059    0.000    0.180    0.000 function_base.py:2329(place)\n",
      "        1    0.000    0.000    0.000    0.000 getlimits.py:507(__init__)\n",
      "        1    0.000    0.000    0.000    0.000 getlimits.py:532(max)\n",
      "    10825    0.126    0.000    0.594    0.000 index_tricks.py:566(__init__)\n",
      "    10825    0.003    0.000    0.003    0.000 index_tricks.py:574(__iter__)\n",
      "    21650    0.028    0.000    0.040    0.000 index_tricks.py:585(__next__)\n",
      "        1    0.000    0.000    0.000    0.000 lapack.py:417(get_lapack_funcs)\n",
      "        1    0.000    0.000    0.000    0.000 lapack.py:459(_compute_lwork)\n",
      "        1    0.000    0.000    0.000    0.000 lapack.py:478(<listcomp>)\n",
      "        1    0.000    0.000    0.000    0.000 misc.py:169(_datacopied)\n",
      "    10825    0.300    0.000    0.336    0.000 numeric.py:1076(outer)\n",
      "        1    0.000    0.000    0.000    0.000 numeric.py:2135(isscalar)\n",
      "        1    0.000    0.000    0.000    0.000 numeric.py:2397(allclose)\n",
      "        1    0.000    0.000    0.000    0.000 numeric.py:2463(isclose)\n",
      "        1    0.000    0.000    0.000    0.000 numeric.py:2522(within_tol)\n",
      "        2    0.000    0.000    0.000    0.000 numeric.py:2667(seterr)\n",
      "        2    0.000    0.000    0.000    0.000 numeric.py:2767(geterr)\n",
      "        1    0.000    0.000    0.000    0.000 numeric.py:3060(__init__)\n",
      "        1    0.000    0.000    0.000    0.000 numeric.py:3064(__enter__)\n",
      "        1    0.000    0.000    0.000    0.000 numeric.py:3069(__exit__)\n",
      "   270629    0.107    0.000    0.564    0.000 numeric.py:463(asarray)\n",
      "   378810    0.144    0.000    0.627    0.000 numeric.py:534(asanyarray)\n",
      "    10825    0.019    0.000    0.124    0.000 numeric.py:87(zeros_like)\n",
      "    32476    0.044    0.000    0.044    0.000 numerictypes.py:1015(<listcomp>)\n",
      "    32476    0.007    0.000    0.007    0.000 numerictypes.py:1016(<listcomp>)\n",
      "    64952    0.616    0.000    0.829    0.000 numerictypes.py:942(_can_coerce_all)\n",
      "   454650    0.139    0.000    0.139    0.000 numerictypes.py:951(<listcomp>)\n",
      "    32476    0.093    0.000    0.972    0.000 numerictypes.py:964(find_common_type)\n",
      "    21650    0.046    0.000    0.087    0.000 shape_base.py:109(<genexpr>)\n",
      "    32470    0.173    0.000    0.483    0.000 shape_base.py:11(atleast_1d)\n",
      "    10825    0.308    0.000    3.884    0.000 shape_base.py:23(apply_along_axis)\n",
      "        1    0.000    0.000    0.000    0.000 stride_tricks.py:176(_broadcast_shape)\n",
      "        1    0.000    0.000    0.000    0.000 stride_tricks.py:195(broadcast_arrays)\n",
      "    10825    0.013    0.000    0.013    0.000 stride_tricks.py:20(__init__)\n",
      "        1    0.000    0.000    0.000    0.000 stride_tricks.py:247(<listcomp>)\n",
      "    10825    0.009    0.000    0.009    0.000 stride_tricks.py:25(_maybe_view_as_subclass)\n",
      "        3    0.000    0.000    0.000    0.000 stride_tricks.py:251(<genexpr>)\n",
      "    10825    0.178    0.000    0.300    0.000 stride_tricks.py:38(as_strided)\n",
      "        2    0.000    0.000    0.000    0.000 {built-in method builtins.abs}\n",
      "    22222    0.022    0.000    0.101    0.000 {built-in method builtins.all}\n",
      "        1    0.000    0.000   12.735   12.735 {built-in method builtins.exec}\n",
      "   238107    0.062    0.000    0.062    0.000 {built-in method builtins.getattr}\n",
      "        1    0.000    0.000    0.000    0.000 {built-in method builtins.hasattr}\n",
      "   357170    0.131    0.000    0.131    0.000 {built-in method builtins.isinstance}\n",
      "   562901    0.082    0.000    0.082    0.000 {built-in method builtins.len}\n",
      "32475/21650    0.019    0.000    0.054    0.000 {built-in method builtins.next}\n",
      "        2    0.000    0.000    0.000    0.000 {built-in method math.ceil}\n",
      "    54119    0.102    0.000    0.102    0.000 {built-in method numpy.core.multiarray._insert}\n",
      "    10825    0.051    0.000    0.051    0.000 {built-in method numpy.core.multiarray.arange}\n",
      "   703570    0.983    0.000    0.983    0.000 {built-in method numpy.core.multiarray.array}\n",
      "    10825    0.026    0.000    0.026    0.000 {built-in method numpy.core.multiarray.copyto}\n",
      "    10825    0.054    0.000    0.054    0.000 {built-in method numpy.core.multiarray.empty_like}\n",
      "    10825    0.007    0.000    0.007    0.000 {built-in method numpy.core.multiarray.normalize_axis_index}\n",
      "    21650    0.052    0.000    0.052    0.000 {built-in method numpy.core.multiarray.putmask}\n",
      "        1    0.000    0.000    0.000    0.000 {built-in method numpy.core.multiarray.result_type}\n",
      "    64953    0.119    0.000    0.119    0.000 {built-in method numpy.core.multiarray.zeros}\n",
      "        4    0.000    0.000    0.000    0.000 {built-in method numpy.core.umath.geterrobj}\n",
      "        2    0.000    0.000    0.000    0.000 {built-in method numpy.core.umath.seterrobj}\n",
      "    10825    0.003    0.000    0.003    0.000 {method '__array_prepare__' of 'numpy.ndarray' objects}\n",
      "    10825    0.002    0.000    0.002    0.000 {method '__array_wrap__' of 'numpy.ndarray' objects}\n",
      "        6    0.000    0.000    0.000    0.000 {method 'all' of 'numpy.ndarray' objects}\n",
      "    32476    0.049    0.000    0.242    0.000 {method 'any' of 'numpy.ndarray' objects}\n",
      "   108229    0.025    0.000    0.025    0.000 {method 'append' of 'list' objects}\n",
      "        1    0.000    0.000    0.000    0.000 {method 'astype' of 'numpy.ndarray' objects}\n",
      "        1    0.000    0.000    0.000    0.000 {method 'disable' of '_lsprof.Profiler' objects}\n",
      "    10825    0.056    0.000    0.056    0.000 {method 'dot' of 'numpy.ndarray' objects}\n",
      "        4    0.000    0.000    0.000    0.000 {method 'get' of 'dict' objects}\n",
      "        1    0.000    0.000    0.000    0.000 {method 'index' of 'list' objects}\n",
      "        1    0.001    0.001    0.002    0.002 {method 'multivariate_normal' of 'mtrand.RandomState' objects}\n",
      "   108226    0.108    0.000    0.108    0.000 {method 'nonzero' of 'numpy.ndarray' objects}\n",
      "    10825    0.249    0.000    0.249    0.000 {method 'outer' of 'numpy.ufunc' objects}\n",
      "        4    0.000    0.000    0.000    0.000 {method 'pop' of 'dict' objects}\n",
      "   238102    0.215    0.000    0.215    0.000 {method 'ravel' of 'numpy.ndarray' objects}\n",
      "    54132    0.315    0.000    0.315    0.000 {method 'reduce' of 'numpy.ufunc' objects}\n",
      "    97402    0.192    0.000    0.192    0.000 {method 'reshape' of 'numpy.ndarray' objects}\n",
      "        1    0.000    0.000    0.000    0.000 {method 'squeeze' of 'numpy.ndarray' objects}\n",
      "   108226    0.233    0.000    0.233    0.000 {method 'take' of 'numpy.ndarray' objects}\n",
      "    21650    0.025    0.000    0.025    0.000 {method 'transpose' of 'numpy.ndarray' objects}\n",
      "        1    0.000    0.000    0.000    0.000 {method 'uniform' of 'mtrand.RandomState' objects}\n",
      "\n",
      "\n"
     ]
    }
   ],
   "source": [
    "cProfile.run('ch.metropolis_new(x, starting_point = [0.5,0.5],chain_length = 5000, burn_in = 0.1)')"
   ]
  },
  {
   "cell_type": "code",
   "execution_count": 30,
   "metadata": {
    "collapsed": false,
    "deletable": true,
    "editable": true
   },
   "outputs": [
    {
     "name": "stdout",
     "output_type": "stream",
     "text": [
      "1 loop, best of 3: 8.79 s per loop\n"
     ]
    }
   ],
   "source": [
    "%timeit ch.metropolis_new(x, starting_point = [0.5,0.5],chain_length = 5000, burn_in = 0.1)"
   ]
  },
  {
   "cell_type": "code",
   "execution_count": 15,
   "metadata": {
    "collapsed": false,
    "deletable": true,
    "editable": true
   },
   "outputs": [
    {
     "data": {
      "text/plain": [
       "1.8161243307592783"
      ]
     },
     "execution_count": 15,
     "metadata": {},
     "output_type": "execute_result"
    }
   ],
   "source": [
    "np.max(traj_new[:,1])"
   ]
  },
  {
   "cell_type": "code",
   "execution_count": 16,
   "metadata": {
    "collapsed": false,
    "deletable": true,
    "editable": true
   },
   "outputs": [
    {
     "data": {
      "image/png": "[encoded data removed]",
      "text/plain": [
       "<matplotlib.figure.Figure at 0x10c3e7668>"
      ]
     },
     "metadata": {},
     "output_type": "display_data"
    }
   ],
   "source": [
    "ch.plot_trajectory(traj)"
   ]
  },
  {
   "cell_type": "code",
   "execution_count": 17,
   "metadata": {
    "collapsed": false,
    "deletable": true,
    "editable": true
   },
   "outputs": [
    {
     "data": {
      "image/png": "[encoded data removed]",
      "text/plain": [
       "<matplotlib.figure.Figure at 0x10de68278>"
      ]
     },
     "metadata": {},
     "output_type": "display_data"
    }
   ],
   "source": [
    "ch.plot_trajectory(traj_new)"
   ]
  },
  {
   "cell_type": "code",
   "execution_count": 18,
   "metadata": {
    "collapsed": false,
    "deletable": true,
    "editable": true
   },
   "outputs": [
    {
     "name": "stdout",
     "output_type": "stream",
     "text": [
      "[-188.26867712 -188.26867712 -188.26867712 ..., -186.01082084 -186.01082084\n",
      " -186.01082084]\n"
     ]
    },
    {
     "data": {
      "image/png": "[encoded data removed]",
      "text/plain": [
       "<matplotlib.figure.Figure at 0x11239db38>"
      ]
     },
     "metadata": {},
     "output_type": "display_data"
    }
   ],
   "source": [
    "ch.plot_region(traj, x, 80.0)"
   ]
  },
  {
   "cell_type": "code",
   "execution_count": 19,
   "metadata": {
    "collapsed": false,
    "deletable": true,
    "editable": true
   },
   "outputs": [
    {
     "name": "stdout",
     "output_type": "stream",
     "text": [
      "181.61224484443665\n",
      "[[ 0.09646851  1.95949828]\n",
      " [ 0.09646851  1.95949828]\n",
      " [ 0.09646851  1.95949828]\n",
      " ..., \n",
      " [ 0.29242333  0.65080326]\n",
      " [ 0.29242333  0.65080326]\n",
      " [ 0.22866486  0.68407161]]\n"
     ]
    }
   ],
   "source": [
    "p = 0.6\n",
    "beta = 0.3\n",
    "x = sim.simulate_data(beta,p, 60)\n",
    "time0 = time.time()\n",
    "traj = ch.metropolis(x, starting_point = [0.5,0.5],chain_length = 100000, burn_in = 0.2)\n",
    "print(time.time()-time0)\n",
    "print(traj)"
   ]
  },
  {
   "cell_type": "code",
   "execution_count": 20,
   "metadata": {
    "collapsed": false,
    "deletable": true,
    "editable": true
   },
   "outputs": [
    {
     "data": {
      "image/png": "[encoded data removed]",
      "text/plain": [
       "<matplotlib.figure.Figure at 0x1020195c0>"
      ]
     },
     "metadata": {},
     "output_type": "display_data"
    },
    {
     "name": "stdout",
     "output_type": "stream",
     "text": [
      "[-207.19229174 -207.19229174 -207.19229174 ..., -203.1138449  -203.1138449\n",
      " -203.62981182]\n"
     ]
    },
    {
     "data": {
      "image/png": "[encoded data removed]",
      "text/plain": [
       "<matplotlib.figure.Figure at 0x10de26668>"
      ]
     },
     "metadata": {},
     "output_type": "display_data"
    }
   ],
   "source": [
    "ch.plot_trajectory(traj)\n",
    "ch.plot_region(traj, x, 90.0)"
   ]
  },
  {
   "cell_type": "code",
   "execution_count": 56,
   "metadata": {
    "collapsed": false,
    "deletable": true,
    "editable": true
   },
   "outputs": [
    {
     "data": {
      "image/png": "[encoded data removed]",
      "text/plain": [
       "<matplotlib.figure.Figure at 0x1123933c8>"
      ]
     },
     "metadata": {},
     "output_type": "display_data"
    }
   ],
   "source": [
    "acceptedTraj = np.column_stack((sim.logit(traj[:,0]), np.log(traj[:,1])))\n",
    "\n",
    "# Display the sampled points\n",
    "\"\"\"Consider square shaped plot\"\"\"\n",
    "# par( pty=\"s\" ) # makes plots in square axes.\n",
    "XY = np.transpose(acceptedTraj)\n",
    "plt.plot(XY[0], XY[1], 'b')\n",
    "plt.xlim([-3.0, 3.0])\n",
    "plt.ylim([-3.0, 3.0])\n",
    "plt.xlabel('P')\n",
    "plt.ylabel(r'$\\beta$')\n",
    "# Display means and rejected/accepted ratio in plot.\n",
    "if (meanTraj[0] > .5):\n",
    "    xpos, xadj = 0.01, 0.01\n",
    "else:\n",
    "    xpos, xadj = 0.95, 0.95\n",
    "if (meanTraj[1] > .5):\n",
    "    ypos, yadj = 0.01, 0.01\n",
    "else:\n",
    "    ypos, yadj = 0.95, 0.95\n",
    "plt.show()"
   ]
  }
 ],
 "metadata": {
  "anaconda-cloud": {},
  "kernelspec": {
   "display_name": "Python 3",
   "language": "python",
   "name": "python3"
  },
  "language_info": {
   "codemirror_mode": {
    "name": "ipython",
    "version": 3
   },
   "file_extension": ".py",
   "mimetype": "text/x-python",
   "name": "python",
   "nbconvert_exporter": "python",
   "pygments_lexer": "ipython3",
   "version": "3.6.0"
  }
 },
 "nbformat": 4,
 "nbformat_minor": 2
}
